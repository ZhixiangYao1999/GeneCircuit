{
 "cells": [
  {
   "cell_type": "code",
   "execution_count": 1,
   "metadata": {},
   "outputs": [
    {
     "name": "stdout",
     "output_type": "stream",
     "text": [
      "Reorganized data saved to /Users/zhixiangyao/Desktop/Fall 2023/Gene Circuit/Projects/GeneCircuit/data_reorganizedn.csv\n"
     ]
    }
   ],
   "source": [
    "import pandas as pd\n",
    "import numpy as np\n",
    "\n",
    "def reorganize_row(row):\n",
    "    # Convert all values to numeric, forcing errors to NaN\n",
    "    numeric_row = pd.to_numeric(row, errors='coerce')\n",
    "    \n",
    "    # Replace NaN with -1 (as specified for handling N/As)\n",
    "    numeric_row = numeric_row.fillna(-1)\n",
    "    \n",
    "    # Group values into pairs\n",
    "    pairs = list(zip(numeric_row[::2], numeric_row[1::2]))\n",
    "\n",
    "    # Filter out pairs where both are -1 (treated as N/A)\n",
    "    minus_one_pairs = [pair for pair in pairs if pair[0] == -1 and pair[1] == -1]\n",
    "    \n",
    "    # Filter out equal pairs and unequal pairs excluding those with -1\n",
    "    equal_pairs = [pair for pair in pairs if pair[0] == pair[1] and pair[0] != -1]\n",
    "    unequal_pairs = [pair for pair in pairs if pair[0] != pair[1] and -1 not in pair]\n",
    "\n",
    "    # Sort unequal pairs by the first element, which is the G value\n",
    "    unequal_pairs.sort(key=lambda x: x[0])\n",
    "\n",
    "    # Combine the pairs back into a list, appending the -1 pairs at the end\n",
    "    sorted_pairs = equal_pairs + unequal_pairs + minus_one_pairs\n",
    "    sorted_row = [val for pair in sorted_pairs for val in pair]\n",
    "    return sorted_row\n",
    "\n",
    "# Read the CSV file with no specific data type\n",
    "data = pd.read_csv('/Users/zhixiangyao/Desktop/Fall 2023/Gene Circuit/Projects/GeneCircuit/data_finaln.csv', header=None)\n",
    "\n",
    "# Apply the reorganization function to each row of the dataset\n",
    "reorganized_data = data.apply(reorganize_row, axis=1)\n",
    "\n",
    "# Convert the reorganized data back to a DataFrame\n",
    "reorganized_df = pd.DataFrame(reorganized_data.tolist())\n",
    "\n",
    "# Save the final reorganized DataFrame to a new CSV file\n",
    "output_csv_path = '/Users/zhixiangyao/Desktop/Fall 2023/Gene Circuit/Projects/GeneCircuit/data_reorganizedn.csv'\n",
    "reorganized_df.to_csv(output_csv_path, index=False, header=False)\n",
    "\n",
    "print(f\"Reorganized data saved to {output_csv_path}\")\n"
   ]
  }
 ],
 "metadata": {
  "kernelspec": {
   "display_name": "VS3.10",
   "language": "python",
   "name": "python3"
  },
  "language_info": {
   "codemirror_mode": {
    "name": "ipython",
    "version": 3
   },
   "file_extension": ".py",
   "mimetype": "text/x-python",
   "name": "python",
   "nbconvert_exporter": "python",
   "pygments_lexer": "ipython3",
   "version": "3.10.2"
  }
 },
 "nbformat": 4,
 "nbformat_minor": 2
}
