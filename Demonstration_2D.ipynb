{
 "cells": [
  {
   "cell_type": "code",
   "execution_count": 5,
   "metadata": {},
   "outputs": [],
   "source": [
    "import numpy as np\n",
    "from scipy.integrate import odeint\n",
    "import matplotlib.pyplot as plt\n",
    "import ipywidgets as widgets\n",
    "from IPython.display import display, clear_output\n",
    "\n",
    "def model(y, t, n, m, a1, b1, a2, b2, theta_a1, theta_b1, k1, theta_a2, theta_b2, k2):\n",
    "    G, P = y\n",
    "    # Lumped terms\n",
    "    # Auto-regulation\n",
    "    f1 = a1*G**n/(theta_a1**n+G**n)\n",
    "    f2 = a2*P**n/(theta_a2**n+P**n)\n",
    "    # Cross-inhibition\n",
    "    d1 = b1*theta_b1**m/(theta_b1**m+(G*P)**m)\n",
    "    d2 = b2*theta_b2**m/(theta_b2**m+(G*P)**m)\n",
    "    # The model, k is the degradation rate (1st order)\n",
    "    dG_dt = f1+d1-k1*G\n",
    "    dP_dt = f2+d2-k2*P\n",
    "    return dG_dt, dP_dt\n",
    "\n",
    "# Create a function to solve and plot the ODE system\n",
    "def solve_and_plot(n, m, a1, b1, a2, b2, theta_a1, theta_b1, k1, theta_a2, theta_b2, k2):\n",
    "    t = np.linspace(0, 25, 250)  # Time points\n",
    "    y0 = [0.5, 0.5]  # Initial conditions\n",
    "    \n",
    "    sol = odeint(model, y0, t, args=(n, m, a1, b1, a2, b2, theta_a1, theta_b1, k1, theta_a2, theta_b2, k2))\n",
    "    \n",
    "    # Extract solutions\n",
    "    G, P = sol[:, 0], sol[:, 1]\n",
    "    \n",
    "    # Create a plot\n",
    "    plt.figure(figsize=(10, 6))\n",
    "    plt.plot(t, G, label='G')\n",
    "    plt.plot(t, P, label='P')\n",
    "    plt.xlabel('Time')\n",
    "    plt.ylabel('Concentration')\n",
    "    plt.legend()\n",
    "    plt.title('Concentration of GATA-1 and PU.1')\n",
    "    plt.grid()\n",
    "    plt.show()\n"
   ]
  },
  {
   "cell_type": "code",
   "execution_count": 7,
   "metadata": {},
   "outputs": [
    {
     "data": {
      "application/vnd.jupyter.widget-view+json": {
       "model_id": "3a06c124d1b04f78bd6b7ca97f1bec3e",
       "version_major": 2,
       "version_minor": 0
      },
      "text/plain": [
       "interactive(children=(FloatSlider(value=4.0, description='n', max=10.0, min=1.0), FloatSlider(value=1.0, descr…"
      ]
     },
     "execution_count": 7,
     "metadata": {},
     "output_type": "execute_result"
    }
   ],
   "source": [
    "# Create adjustable parameter widgets\n",
    "n_slider = widgets.FloatSlider(value=4, min=1, max=10, step=0.1, description='n')\n",
    "m_slider = widgets.FloatSlider(value=1, min=1, max=10, step=0.1, description='m')\n",
    "a1_slider = widgets.FloatSlider(value=1, min=0, max=10, step=0.1, description='a1')\n",
    "a2_slider = widgets.FloatSlider(value=1, min=0, max=10, step=0.1, description='a2')\n",
    "b1_slider = widgets.FloatSlider(value=1, min=0, max=10, step=0.1, description='b1')\n",
    "b2_slider = widgets.FloatSlider(value=1, min=0.1, max=10, step=0.1, description='b2')\n",
    "theta_a1_slider = widgets.FloatSlider(value=0.5, min=0, max=10, step=0.1, description='theta_a1')\n",
    "theta_a2_slider = widgets.FloatSlider(value=0.5, min=0, max=10, step=0.1, description='theta_a2')\n",
    "k1_slider = widgets.FloatSlider(value=1, min=0, max=10, step=0.1, description='k1')\n",
    "k2_slider = widgets.FloatSlider(value=1, min=0, max=10, step=0.1, description='k2')\n",
    "theta_b1_slider = widgets.FloatSlider(value=0.07, min=0, max=10, step=0.01, description='theta_b1')\n",
    "theta_b2_slider = widgets.FloatSlider(value=0.07, min=0, max=10, step=0.01, description='theta_b2')\n",
    "\n",
    "# Create an interactive interface\n",
    "widgets.interactive(solve_and_plot, \n",
    "                    n = n_slider, m = m_slider, a1 = a1_slider, a2 = a2_slider,\n",
    "                    b1 = b1_slider, b2 = b2_slider, theta_a1 = theta_a1_slider,\n",
    "                    theta_a2 = theta_a2_slider, theta_b1 = theta_b1_slider,\n",
    "                    theta_b2 = theta_b2_slider, k1 = k1_slider, k2 = k2_slider\n",
    "                    )\n"
   ]
  }
 ],
 "metadata": {
  "kernelspec": {
   "display_name": "VS3.10",
   "language": "python",
   "name": "python3"
  },
  "language_info": {
   "codemirror_mode": {
    "name": "ipython",
    "version": 3
   },
   "file_extension": ".py",
   "mimetype": "text/x-python",
   "name": "python",
   "nbconvert_exporter": "python",
   "pygments_lexer": "ipython3",
   "version": "3.10.2"
  }
 },
 "nbformat": 4,
 "nbformat_minor": 2
}
